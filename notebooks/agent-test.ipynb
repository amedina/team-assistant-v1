{
 "cells": [
  {
   "cell_type": "markdown",
   "id": "8a6bc8c47b52f7d9",
   "metadata": {},
   "source": [
    "## Install dependencies"
   ]
  },
  {
   "cell_type": "code",
   "execution_count": 5,
   "id": "initial_id",
   "metadata": {},
   "outputs": [
    {
     "name": "stdout",
     "output_type": "stream",
     "text": [
      "Requirement already satisfied: google-cloud-aiplatform in /Users/albertomedina/DevRel/AI/vibe-coding/ps-sanbox-agents/team-assistant/.new-env/lib/python3.12/site-packages (1.97.0)\n",
      "Requirement already satisfied: google-api-core!=2.0.*,!=2.1.*,!=2.2.*,!=2.3.*,!=2.4.*,!=2.5.*,!=2.6.*,!=2.7.*,<3.0.0,>=1.34.1 in /Users/albertomedina/DevRel/AI/vibe-coding/ps-sanbox-agents/team-assistant/.new-env/lib/python3.12/site-packages (from google-api-core[grpc]!=2.0.*,!=2.1.*,!=2.2.*,!=2.3.*,!=2.4.*,!=2.5.*,!=2.6.*,!=2.7.*,<3.0.0,>=1.34.1->google-cloud-aiplatform) (2.25.0)\n",
      "Requirement already satisfied: google-auth<3.0.0,>=2.14.1 in /Users/albertomedina/DevRel/AI/vibe-coding/ps-sanbox-agents/team-assistant/.new-env/lib/python3.12/site-packages (from google-cloud-aiplatform) (2.40.3)\n",
      "Requirement already satisfied: proto-plus<2.0.0,>=1.22.3 in /Users/albertomedina/DevRel/AI/vibe-coding/ps-sanbox-agents/team-assistant/.new-env/lib/python3.12/site-packages (from google-cloud-aiplatform) (1.26.1)\n",
      "Requirement already satisfied: protobuf!=4.21.0,!=4.21.1,!=4.21.2,!=4.21.3,!=4.21.4,!=4.21.5,<7.0.0,>=3.20.2 in /Users/albertomedina/DevRel/AI/vibe-coding/ps-sanbox-agents/team-assistant/.new-env/lib/python3.12/site-packages (from google-cloud-aiplatform) (6.31.1)\n",
      "Requirement already satisfied: packaging>=14.3 in /Users/albertomedina/DevRel/AI/vibe-coding/ps-sanbox-agents/team-assistant/.new-env/lib/python3.12/site-packages (from google-cloud-aiplatform) (25.0)\n",
      "Requirement already satisfied: google-cloud-storage<3.0.0,>=1.32.0 in /Users/albertomedina/DevRel/AI/vibe-coding/ps-sanbox-agents/team-assistant/.new-env/lib/python3.12/site-packages (from google-cloud-aiplatform) (2.19.0)\n",
      "Requirement already satisfied: google-cloud-bigquery!=3.20.0,<4.0.0,>=1.15.0 in /Users/albertomedina/DevRel/AI/vibe-coding/ps-sanbox-agents/team-assistant/.new-env/lib/python3.12/site-packages (from google-cloud-aiplatform) (3.34.0)\n",
      "Requirement already satisfied: google-cloud-resource-manager<3.0.0,>=1.3.3 in /Users/albertomedina/DevRel/AI/vibe-coding/ps-sanbox-agents/team-assistant/.new-env/lib/python3.12/site-packages (from google-cloud-aiplatform) (1.14.2)\n",
      "Requirement already satisfied: shapely<3.0.0 in /Users/albertomedina/DevRel/AI/vibe-coding/ps-sanbox-agents/team-assistant/.new-env/lib/python3.12/site-packages (from google-cloud-aiplatform) (2.1.1)\n",
      "Requirement already satisfied: google-genai<2.0.0,>=1.0.0 in /Users/albertomedina/DevRel/AI/vibe-coding/ps-sanbox-agents/team-assistant/.new-env/lib/python3.12/site-packages (from google-cloud-aiplatform) (1.19.0)\n",
      "Requirement already satisfied: pydantic<3 in /Users/albertomedina/DevRel/AI/vibe-coding/ps-sanbox-agents/team-assistant/.new-env/lib/python3.12/site-packages (from google-cloud-aiplatform) (2.11.5)\n",
      "Requirement already satisfied: typing_extensions in /Users/albertomedina/DevRel/AI/vibe-coding/ps-sanbox-agents/team-assistant/.new-env/lib/python3.12/site-packages (from google-cloud-aiplatform) (4.14.0)\n",
      "Requirement already satisfied: docstring_parser<1 in /Users/albertomedina/DevRel/AI/vibe-coding/ps-sanbox-agents/team-assistant/.new-env/lib/python3.12/site-packages (from google-cloud-aiplatform) (0.16)\n",
      "Requirement already satisfied: googleapis-common-protos<2.0.0,>=1.56.2 in /Users/albertomedina/DevRel/AI/vibe-coding/ps-sanbox-agents/team-assistant/.new-env/lib/python3.12/site-packages (from google-api-core!=2.0.*,!=2.1.*,!=2.2.*,!=2.3.*,!=2.4.*,!=2.5.*,!=2.6.*,!=2.7.*,<3.0.0,>=1.34.1->google-api-core[grpc]!=2.0.*,!=2.1.*,!=2.2.*,!=2.3.*,!=2.4.*,!=2.5.*,!=2.6.*,!=2.7.*,<3.0.0,>=1.34.1->google-cloud-aiplatform) (1.70.0)\n",
      "Requirement already satisfied: requests<3.0.0,>=2.18.0 in /Users/albertomedina/DevRel/AI/vibe-coding/ps-sanbox-agents/team-assistant/.new-env/lib/python3.12/site-packages (from google-api-core!=2.0.*,!=2.1.*,!=2.2.*,!=2.3.*,!=2.4.*,!=2.5.*,!=2.6.*,!=2.7.*,<3.0.0,>=1.34.1->google-api-core[grpc]!=2.0.*,!=2.1.*,!=2.2.*,!=2.3.*,!=2.4.*,!=2.5.*,!=2.6.*,!=2.7.*,<3.0.0,>=1.34.1->google-cloud-aiplatform) (2.32.4)\n",
      "Requirement already satisfied: grpcio<2.0.0,>=1.33.2 in /Users/albertomedina/DevRel/AI/vibe-coding/ps-sanbox-agents/team-assistant/.new-env/lib/python3.12/site-packages (from google-api-core[grpc]!=2.0.*,!=2.1.*,!=2.2.*,!=2.3.*,!=2.4.*,!=2.5.*,!=2.6.*,!=2.7.*,<3.0.0,>=1.34.1->google-cloud-aiplatform) (1.73.0)\n",
      "Requirement already satisfied: grpcio-status<2.0.0,>=1.33.2 in /Users/albertomedina/DevRel/AI/vibe-coding/ps-sanbox-agents/team-assistant/.new-env/lib/python3.12/site-packages (from google-api-core[grpc]!=2.0.*,!=2.1.*,!=2.2.*,!=2.3.*,!=2.4.*,!=2.5.*,!=2.6.*,!=2.7.*,<3.0.0,>=1.34.1->google-cloud-aiplatform) (1.73.0)\n",
      "Requirement already satisfied: cachetools<6.0,>=2.0.0 in /Users/albertomedina/DevRel/AI/vibe-coding/ps-sanbox-agents/team-assistant/.new-env/lib/python3.12/site-packages (from google-auth<3.0.0,>=2.14.1->google-cloud-aiplatform) (5.5.2)\n",
      "Requirement already satisfied: pyasn1-modules>=0.2.1 in /Users/albertomedina/DevRel/AI/vibe-coding/ps-sanbox-agents/team-assistant/.new-env/lib/python3.12/site-packages (from google-auth<3.0.0,>=2.14.1->google-cloud-aiplatform) (0.4.2)\n",
      "Requirement already satisfied: rsa<5,>=3.1.4 in /Users/albertomedina/DevRel/AI/vibe-coding/ps-sanbox-agents/team-assistant/.new-env/lib/python3.12/site-packages (from google-auth<3.0.0,>=2.14.1->google-cloud-aiplatform) (4.9.1)\n",
      "Requirement already satisfied: google-cloud-core<3.0.0,>=2.4.1 in /Users/albertomedina/DevRel/AI/vibe-coding/ps-sanbox-agents/team-assistant/.new-env/lib/python3.12/site-packages (from google-cloud-bigquery!=3.20.0,<4.0.0,>=1.15.0->google-cloud-aiplatform) (2.4.3)\n",
      "Requirement already satisfied: google-resumable-media<3.0.0,>=2.0.0 in /Users/albertomedina/DevRel/AI/vibe-coding/ps-sanbox-agents/team-assistant/.new-env/lib/python3.12/site-packages (from google-cloud-bigquery!=3.20.0,<4.0.0,>=1.15.0->google-cloud-aiplatform) (2.7.2)\n",
      "Requirement already satisfied: python-dateutil<3.0.0,>=2.8.2 in /Users/albertomedina/DevRel/AI/vibe-coding/ps-sanbox-agents/team-assistant/.new-env/lib/python3.12/site-packages (from google-cloud-bigquery!=3.20.0,<4.0.0,>=1.15.0->google-cloud-aiplatform) (2.9.0.post0)\n",
      "Requirement already satisfied: grpc-google-iam-v1<1.0.0,>=0.14.0 in /Users/albertomedina/DevRel/AI/vibe-coding/ps-sanbox-agents/team-assistant/.new-env/lib/python3.12/site-packages (from google-cloud-resource-manager<3.0.0,>=1.3.3->google-cloud-aiplatform) (0.14.2)\n",
      "Requirement already satisfied: google-crc32c<2.0dev,>=1.0 in /Users/albertomedina/DevRel/AI/vibe-coding/ps-sanbox-agents/team-assistant/.new-env/lib/python3.12/site-packages (from google-cloud-storage<3.0.0,>=1.32.0->google-cloud-aiplatform) (1.7.1)\n",
      "Requirement already satisfied: anyio<5.0.0,>=4.8.0 in /Users/albertomedina/DevRel/AI/vibe-coding/ps-sanbox-agents/team-assistant/.new-env/lib/python3.12/site-packages (from google-genai<2.0.0,>=1.0.0->google-cloud-aiplatform) (4.9.0)\n",
      "Requirement already satisfied: httpx<1.0.0,>=0.28.1 in /Users/albertomedina/DevRel/AI/vibe-coding/ps-sanbox-agents/team-assistant/.new-env/lib/python3.12/site-packages (from google-genai<2.0.0,>=1.0.0->google-cloud-aiplatform) (0.28.1)\n",
      "Requirement already satisfied: websockets<15.1.0,>=13.0.0 in /Users/albertomedina/DevRel/AI/vibe-coding/ps-sanbox-agents/team-assistant/.new-env/lib/python3.12/site-packages (from google-genai<2.0.0,>=1.0.0->google-cloud-aiplatform) (15.0.1)\n",
      "Requirement already satisfied: annotated-types>=0.6.0 in /Users/albertomedina/DevRel/AI/vibe-coding/ps-sanbox-agents/team-assistant/.new-env/lib/python3.12/site-packages (from pydantic<3->google-cloud-aiplatform) (0.7.0)\n",
      "Requirement already satisfied: pydantic-core==2.33.2 in /Users/albertomedina/DevRel/AI/vibe-coding/ps-sanbox-agents/team-assistant/.new-env/lib/python3.12/site-packages (from pydantic<3->google-cloud-aiplatform) (2.33.2)\n",
      "Requirement already satisfied: typing-inspection>=0.4.0 in /Users/albertomedina/DevRel/AI/vibe-coding/ps-sanbox-agents/team-assistant/.new-env/lib/python3.12/site-packages (from pydantic<3->google-cloud-aiplatform) (0.4.1)\n",
      "Requirement already satisfied: numpy>=1.21 in /Users/albertomedina/DevRel/AI/vibe-coding/ps-sanbox-agents/team-assistant/.new-env/lib/python3.12/site-packages (from shapely<3.0.0->google-cloud-aiplatform) (2.3.0)\n",
      "Requirement already satisfied: idna>=2.8 in /Users/albertomedina/DevRel/AI/vibe-coding/ps-sanbox-agents/team-assistant/.new-env/lib/python3.12/site-packages (from anyio<5.0.0,>=4.8.0->google-genai<2.0.0,>=1.0.0->google-cloud-aiplatform) (3.10)\n",
      "Requirement already satisfied: sniffio>=1.1 in /Users/albertomedina/DevRel/AI/vibe-coding/ps-sanbox-agents/team-assistant/.new-env/lib/python3.12/site-packages (from anyio<5.0.0,>=4.8.0->google-genai<2.0.0,>=1.0.0->google-cloud-aiplatform) (1.3.1)\n",
      "Requirement already satisfied: certifi in /Users/albertomedina/DevRel/AI/vibe-coding/ps-sanbox-agents/team-assistant/.new-env/lib/python3.12/site-packages (from httpx<1.0.0,>=0.28.1->google-genai<2.0.0,>=1.0.0->google-cloud-aiplatform) (2025.4.26)\n",
      "Requirement already satisfied: httpcore==1.* in /Users/albertomedina/DevRel/AI/vibe-coding/ps-sanbox-agents/team-assistant/.new-env/lib/python3.12/site-packages (from httpx<1.0.0,>=0.28.1->google-genai<2.0.0,>=1.0.0->google-cloud-aiplatform) (1.0.9)\n",
      "Requirement already satisfied: h11>=0.16 in /Users/albertomedina/DevRel/AI/vibe-coding/ps-sanbox-agents/team-assistant/.new-env/lib/python3.12/site-packages (from httpcore==1.*->httpx<1.0.0,>=0.28.1->google-genai<2.0.0,>=1.0.0->google-cloud-aiplatform) (0.16.0)\n",
      "Requirement already satisfied: pyasn1<0.7.0,>=0.6.1 in /Users/albertomedina/DevRel/AI/vibe-coding/ps-sanbox-agents/team-assistant/.new-env/lib/python3.12/site-packages (from pyasn1-modules>=0.2.1->google-auth<3.0.0,>=2.14.1->google-cloud-aiplatform) (0.6.1)\n",
      "Requirement already satisfied: six>=1.5 in /Users/albertomedina/DevRel/AI/vibe-coding/ps-sanbox-agents/team-assistant/.new-env/lib/python3.12/site-packages (from python-dateutil<3.0.0,>=2.8.2->google-cloud-bigquery!=3.20.0,<4.0.0,>=1.15.0->google-cloud-aiplatform) (1.17.0)\n",
      "Requirement already satisfied: charset_normalizer<4,>=2 in /Users/albertomedina/DevRel/AI/vibe-coding/ps-sanbox-agents/team-assistant/.new-env/lib/python3.12/site-packages (from requests<3.0.0,>=2.18.0->google-api-core!=2.0.*,!=2.1.*,!=2.2.*,!=2.3.*,!=2.4.*,!=2.5.*,!=2.6.*,!=2.7.*,<3.0.0,>=1.34.1->google-api-core[grpc]!=2.0.*,!=2.1.*,!=2.2.*,!=2.3.*,!=2.4.*,!=2.5.*,!=2.6.*,!=2.7.*,<3.0.0,>=1.34.1->google-cloud-aiplatform) (3.4.2)\n",
      "Requirement already satisfied: urllib3<3,>=1.21.1 in /Users/albertomedina/DevRel/AI/vibe-coding/ps-sanbox-agents/team-assistant/.new-env/lib/python3.12/site-packages (from requests<3.0.0,>=2.18.0->google-api-core!=2.0.*,!=2.1.*,!=2.2.*,!=2.3.*,!=2.4.*,!=2.5.*,!=2.6.*,!=2.7.*,<3.0.0,>=1.34.1->google-api-core[grpc]!=2.0.*,!=2.1.*,!=2.2.*,!=2.3.*,!=2.4.*,!=2.5.*,!=2.6.*,!=2.7.*,<3.0.0,>=1.34.1->google-cloud-aiplatform) (2.4.0)\n",
      "\n",
      "\u001b[1m[\u001b[0m\u001b[34;49mnotice\u001b[0m\u001b[1;39;49m]\u001b[0m\u001b[39;49m A new release of pip is available: \u001b[0m\u001b[31;49m24.3.1\u001b[0m\u001b[39;49m -> \u001b[0m\u001b[32;49m25.1.1\u001b[0m\n",
      "\u001b[1m[\u001b[0m\u001b[34;49mnotice\u001b[0m\u001b[1;39;49m]\u001b[0m\u001b[39;49m To update, run: \u001b[0m\u001b[32;49mpip install --upgrade pip\u001b[0m\n"
     ]
    }
   ],
   "source": [
    "!pip install google-cloud-aiplatform --upgrade"
   ]
  },
  {
   "cell_type": "markdown",
   "id": "34da4d799e89eddf",
   "metadata": {},
   "source": [
    "### Import libraries"
   ]
  },
  {
   "cell_type": "code",
   "execution_count": 6,
   "id": "1a15872edf9db25f",
   "metadata": {},
   "outputs": [],
   "source": [
    "import json\n",
    "\n",
    "import requests\n",
    "import vertexai.agent_engines"
   ]
  },
  {
   "cell_type": "markdown",
   "id": "f561346d7652adf",
   "metadata": {},
   "source": [
    "### Remote Testing"
   ]
  },
  {
   "cell_type": "code",
   "execution_count": 7,
   "id": "222e9ed6924f26c6",
   "metadata": {},
   "outputs": [],
   "source": [
    "# Replace with your Agent Engine ID\n",
    "AGENT_ENGINE_ID = \"projects/dummy-agentic/locations/us-central1/reasoningEngines/5269114807000236032\""
   ]
  },
  {
   "cell_type": "code",
   "execution_count": 8,
   "id": "f3b26059669d82d2",
   "metadata": {},
   "outputs": [],
   "source": [
    "remote_agent_engine = vertexai.agent_engines.get(AGENT_ENGINE_ID)"
   ]
  },
  {
   "cell_type": "code",
   "execution_count": 10,
   "id": "e4e807dbcb03bdb6",
   "metadata": {},
   "outputs": [
    {
     "name": "stdout",
     "output_type": "stream",
     "text": [
      "{'content': {'parts': [{'function_call': {'id': 'adk-c0caf2f1-4305-4209-9807-cc72be6e8000', 'args': {'request': 'Hi!'}, 'name': 'Greeter'}}], 'role': 'model'}, 'usage_metadata': {'candidates_token_count': 5, 'candidates_tokens_details': [{'modality': 'TEXT', 'token_count': 5}], 'prompt_token_count': 160, 'prompt_tokens_details': [{'modality': 'TEXT', 'token_count': 160}], 'total_token_count': 165, 'traffic_type': 'ON_DEMAND'}, 'invocation_id': 'e-a1b2c546-a47d-4e03-b8b1-0fcd41f89098', 'author': 'root_agent', 'actions': {'state_delta': {}, 'artifact_delta': {}, 'requested_auth_configs': {}}, 'long_running_tool_ids': [], 'id': 'mfbwStqK', 'timestamp': 1749669834.950667}\n",
      "{'content': {'parts': [{'function_response': {'id': 'adk-c0caf2f1-4305-4209-9807-cc72be6e8000', 'name': 'Greeter', 'response': {'result': \"Hello there! It's lovely to meet you.\\n\\nHow can I help you today?\"}}}], 'role': 'user'}, 'invocation_id': 'e-a1b2c546-a47d-4e03-b8b1-0fcd41f89098', 'author': 'root_agent', 'actions': {'state_delta': {}, 'artifact_delta': {}, 'requested_auth_configs': {}}, 'id': 'nrTj4RYc', 'timestamp': 1749669837.264136}\n",
      "{'content': {'parts': [{'text': \"Hello there! It's lovely to meet you.\\n\\nHow can I help you today?\\n\"}], 'role': 'model'}, 'usage_metadata': {'candidates_token_count': 20, 'candidates_tokens_details': [{'modality': 'TEXT', 'token_count': 20}], 'prompt_token_count': 187, 'prompt_tokens_details': [{'modality': 'TEXT', 'token_count': 187}], 'total_token_count': 207, 'traffic_type': 'ON_DEMAND'}, 'invocation_id': 'e-a1b2c546-a47d-4e03-b8b1-0fcd41f89098', 'author': 'root_agent', 'actions': {'state_delta': {}, 'artifact_delta': {}, 'requested_auth_configs': {}}, 'id': 'ScYvReNL', 'timestamp': 1749669837.430783}\n"
     ]
    }
   ],
   "source": [
    "for event in remote_agent_engine.stream_query(message=\"Hi!\", user_id=\"test\"):\n",
    "    print(event)"
   ]
  },
  {
   "cell_type": "code",
   "execution_count": null,
   "id": "bc326c1d-ddc9-4719-b481-182fc1dae40f",
   "metadata": {},
   "outputs": [],
   "source": []
  }
 ],
 "metadata": {
  "kernelspec": {
   "display_name": "Python 3 (ipykernel)",
   "language": "python",
   "name": "python3"
  },
  "language_info": {
   "codemirror_mode": {
    "name": "ipython",
    "version": 3
   },
   "file_extension": ".py",
   "mimetype": "text/x-python",
   "name": "python",
   "nbconvert_exporter": "python",
   "pygments_lexer": "ipython3",
   "version": "3.12.8"
  }
 },
 "nbformat": 4,
 "nbformat_minor": 5
}
